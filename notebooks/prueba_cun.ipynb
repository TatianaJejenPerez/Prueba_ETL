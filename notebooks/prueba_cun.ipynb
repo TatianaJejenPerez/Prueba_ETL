{
 "cells": [
  {
   "cell_type": "code",
   "execution_count": 39,
   "id": "e6e105e8-1d8b-4f48-a06f-9aba846b5acc",
   "metadata": {},
   "outputs": [],
   "source": [
    "import pandas as pd\n",
    "import numpy as np\n",
    "import requests\n",
    "from datetime import date, timedelta\n",
    "from sklearn.model_selection import train_test_split\n",
    "from sklearn.linear_model import LinearRegression\n",
    "from sklearn.metrics import mean_absolute_error, r2_score\n",
    "from sklearn.model_selection import TimeSeriesSplit, cross_val_predict\n"
   ]
  },
  {
   "cell_type": "code",
   "execution_count": 12,
   "id": "c488f79b-67ba-4d46-a417-dedbc2e9a6ba",
   "metadata": {},
   "outputs": [
    {
     "name": "stdout",
     "output_type": "stream",
     "text": [
      "Ventas rango: 2024-08-28 → 2025-08-27\n",
      "Columnas ventas: ['date', 'product_id', 'product', 'sales', 'price', 'category']\n",
      "        date  product_id  product  sales   price    category\n",
      "0 2024-09-06           2   poncho    128   67.83  accesorios\n",
      "1 2025-02-23           3  bufanda     74  110.05     calzado\n",
      "2 2024-09-19           4    botas     88   66.96   Chaquetas\n",
      "3 2024-10-28           5  guantes    176   16.33     calzado\n",
      "4 2024-08-29           6    botas     20  160.85  accesorios\n"
     ]
    }
   ],
   "source": [
    "CSV_PATH = \"D:/prueba_tecnica/data/ventas_mockaroo.csv\"  # <- tu ruta\n",
    "\n",
    "ventas = pd.read_csv(CSV_PATH, parse_dates=[\"date\"])\n",
    "ventas['date'] = ventas['date'].dt.normalize()\n",
    "\n",
    "print(\"Ventas rango:\", ventas['date'].min().date(), \"→\", ventas['date'].max().date())\n",
    "print(\"Columnas ventas:\", list(ventas.columns))\n",
    "print(ventas.head())\n"
   ]
  },
  {
   "cell_type": "code",
   "execution_count": 19,
   "id": "bd184639-3fb7-4760-b52f-0c895f189b6b",
   "metadata": {},
   "outputs": [
    {
     "name": "stdout",
     "output_type": "stream",
     "text": [
      "API rango: 2025-05-31 → 2025-09-05\n",
      "Params ARCHIVE: {'latitude': 4.61, 'longitude': -74.08, 'daily': 'temperature_2m_max,temperature_2m_min,precipitation_sum', 'timezone': 'America/Bogota', 'start_date': '2025-05-31', 'end_date': '2025-08-29'}\n",
      "HTTP ARCHIVE: 200 | URL: https://archive-api.open-meteo.com/v1/archive?latitude=4.61&longitude=-74.08&daily=temperature_2m_max%2Ctemperature_2m_min%2Cprecipitation_sum&timezone=America%2FBogota&start_date=2025-05-31&end_date=2025-08-29\n"
     ]
    }
   ],
   "source": [
    "# Rango cubierto por API (aprox. 90 días atrás y 7 días adelante)\n",
    "today = date.today()\n",
    "api_start = (today - timedelta(days=90)).strftime(\"%Y-%m-%d\")\n",
    "api_end   = (today + timedelta(days=7)).strftime(\"%Y-%m-%d\")\n",
    "\n",
    "LATITUDE, LONGITUDE, TIMEZONE = 4.61, -74.08, \"America/Bogota\"\n",
    "print(\"API rango:\", api_start, \"→\", api_end)\n",
    "\n",
    "archive_url = \"https://archive-api.open-meteo.com/v1/archive\"\n",
    "archive_params = {\n",
    "    \"latitude\": LATITUDE,\n",
    "    \"longitude\": LONGITUDE,\n",
    "    \"daily\": \"temperature_2m_max,temperature_2m_min,precipitation_sum\",\n",
    "    \"timezone\": TIMEZONE,\n",
    "    \"start_date\": api_start,\n",
    "    \"end_date\": today.strftime(\"%Y-%m-%d\")     # <- archive no da futuro\n",
    "}\n",
    "print(\"Params ARCHIVE:\", archive_params)\n",
    "\n",
    "resp_arch = requests.get(archive_url, params=archive_params, timeout=40)\n",
    "print(\"HTTP ARCHIVE:\", resp_arch.status_code, \"| URL:\", resp_arch.url)\n",
    "resp_arch.raise_for_status()\n",
    "j_arch = resp_arch.json()\n"
   ]
  },
  {
   "cell_type": "code",
   "execution_count": 20,
   "id": "170b5b7a-5471-4d82-aff5-f27ed183ea0c",
   "metadata": {},
   "outputs": [
    {
     "name": "stdout",
     "output_type": "stream",
     "text": [
      "Claves en daily (ARCHIVE): ['time', 'temperature_2m_max', 'temperature_2m_min', 'precipitation_sum']\n",
      "Len time=91, tmax=91, tmin=91, prec=91\n",
      "ARCHIVE rango: 2025-05-31 00:00:00 → 2025-08-29 00:00:00\n",
      "        date  temperature  precipitation\n",
      "0 2025-05-31        12.85            6.4\n",
      "1 2025-06-01        12.35            6.0\n",
      "2 2025-06-02        12.65            4.8\n",
      "3 2025-06-03        12.70           11.8\n",
      "4 2025-06-04        12.55           10.4\n"
     ]
    }
   ],
   "source": [
    "# --- Parche robusto para ARCHIVE ---\n",
    "daily_arch = j_arch.get(\"daily\") or {}\n",
    "print(\"Claves en daily (ARCHIVE):\", list(daily_arch.keys()))\n",
    "\n",
    "times = daily_arch.get(\"time\") or []\n",
    "tmax  = daily_arch.get(\"temperature_2m_max\") or []\n",
    "tmin  = daily_arch.get(\"temperature_2m_min\") or []\n",
    "prec  = daily_arch.get(\"precipitation_sum\") or []\n",
    "\n",
    "print(f\"Len time={len(times)}, tmax={len(tmax)}, tmin={len(tmin)}, prec={len(prec)}\")\n",
    "\n",
    "# Si no hay datos, crear DF vacío y seguir (no rompas el flujo)\n",
    "if len(times) == 0:\n",
    "    print(\"ARCHIVE no devolvió datos en el rango solicitado.\")\n",
    "    clima_hist = pd.DataFrame(columns=[\"date\",\"temperature\",\"precipitation\"])\n",
    "else:\n",
    "    clima_hist = pd.DataFrame({\"date\": pd.to_datetime(times)}) #--- trasforma datatime\n",
    "    # Solo agregar columnas si existen y tienen longitudes compatibles\n",
    "    if len(tmax) == len(times) and len(tmin) == len(times):\n",
    "        tmax = pd.to_numeric(tmax, errors=\"coerce\")\n",
    "        tmin = pd.to_numeric(tmin, errors=\"coerce\")\n",
    "        clima_hist[\"temperature\"] = (tmax + tmin) / 2.0\n",
    "    elif len(tmax) == len(times):  # fallback si solo viene tmax\n",
    "        tmax = pd.to_numeric(tmax, errors=\"coerce\")\n",
    "        clima_hist[\"temperature\"] = tmax\n",
    "        print(\"Usando solo temperature_2m_max como temperatura.\")\n",
    "    elif len(tmin) == len(times):  # fallback si solo viene tmin\n",
    "        tmin = pd.to_numeric(tmin, errors=\"coerce\")\n",
    "        clima_hist[\"temperature\"] = tmin\n",
    "        print(\"Usando solo temperature_2m_min como temperatura.\")\n",
    "    else:\n",
    "        clima_hist[\"temperature\"] = np.nan\n",
    "        print(\"No llegaron tmax/tmin con longitud válida; temperature queda NaN.\")\n",
    "\n",
    "    if len(prec) == len(times):\n",
    "        clima_hist[\"precipitation\"] = pd.to_numeric(prec, errors=\"coerce\")\n",
    "    else:\n",
    "        clima_hist[\"precipitation\"] = np.nan\n",
    "        print(\" No llegó precipitation_sum con longitud válida; queda NaN.\")\n",
    "\n",
    "clima_hist[\"date\"] = clima_hist[\"date\"].dt.normalize() #---- solo fechaa\n",
    "print(\"ARCHIVE rango:\", clima_hist[\"date\"].min(), \"→\", clima_hist[\"date\"].max())\n",
    "print(clima_hist.head())"
   ]
  },
  {
   "cell_type": "code",
   "execution_count": 22,
   "id": "734bbd57-34b5-41b8-b645-6a75b1965b67",
   "metadata": {},
   "outputs": [
    {
     "name": "stdout",
     "output_type": "stream",
     "text": [
      " Params FORECAST: {'latitude': 4.61, 'longitude': -74.08, 'daily': 'temperature_2m_max,temperature_2m_min,precipitation_sum', 'timezone': 'America/Bogota', 'forecast_days': 8}\n",
      "HTTP FORECAST: 200 | URL: https://api.open-meteo.com/v1/forecast?latitude=4.61&longitude=-74.08&daily=temperature_2m_max%2Ctemperature_2m_min%2Cprecipitation_sum&timezone=America%2FBogota&forecast_days=8\n"
     ]
    }
   ],
   "source": [
    "\n",
    "# 2) FUTURO: FORECAST (usa forecast_days)\n",
    "\n",
    "forecast_url = \"https://api.open-meteo.com/v1/forecast\"\n",
    "forecast_days = (pd.to_datetime(api_end) - pd.to_datetime(today)).days + 1  # 1..7\n",
    "forecast_params = {\n",
    "    \"latitude\": LATITUDE,\n",
    "    \"longitude\": LONGITUDE,\n",
    "    \"daily\": \"temperature_2m_max,temperature_2m_min,precipitation_sum\",\n",
    "    \"timezone\": TIMEZONE,\n",
    "    \"forecast_days\": forecast_days\n",
    "}\n",
    "print(\" Params FORECAST:\", forecast_params)\n",
    "\n",
    "resp_fore = requests.get(forecast_url, params=forecast_params, timeout=40)\n",
    "print(\"HTTP FORECAST:\", resp_fore.status_code, \"| URL:\", resp_fore.url)\n",
    "resp_fore.raise_for_status()\n",
    "j_fore = resp_fore.json()\n",
    "daily_fore = j_fore.get(\"daily\", {})\n",
    "clima_fut = pd.DataFrame({\n",
    "    \"date\": pd.to_datetime(daily_fore.get(\"time\", [])),\n",
    "    \"temperature\": (np.array(daily_fore.get(\"temperature_2m_max\", [])) +\n",
    "                    np.array(daily_fore.get(\"temperature_2m_min\", []))) / 2.0,\n",
    "    \"precipitation\": daily_fore.get(\"precipitation_sum\", [])\n",
    "})\n",
    "# cortar exactamente al rango futuro deseado\n",
    "if not clima_fut.empty:\n",
    "    clima_fut = clima_fut[(clima_fut[\"date\"] >= pd.to_datetime(today)) &\n",
    "                          (clima_fut[\"date\"] <= pd.to_datetime(api_end))]\n",
    "\n",
    "\n"
   ]
  },
  {
   "cell_type": "code",
   "execution_count": 28,
   "id": "8eae74de-b72d-4c38-8f2f-ffadb6b5c5b8",
   "metadata": {},
   "outputs": [],
   "source": [
    "def clean_clima(df, label=\"clima\"):\n",
    "    print(f\"\\n Limpieza {label} ({len(df)} filas iniciales)\")\n",
    "\n",
    "    # Fechas inválidas\n",
    "    bad_dates = df['date'].isna().sum()\n",
    "    if bad_dates > 0:\n",
    "        print(f\" - {bad_dates} fechas inválidas (NaT).\")\n",
    "\n",
    "    # Duplicados\n",
    "    dups = df.duplicated(subset=['date']).sum()\n",
    "    if dups > 0:\n",
    "        print(f\" - Se eliminarán {dups} duplicados por fecha.\")\n",
    "\n",
    "    # Temperaturas fuera de rango\n",
    "    outliers = (~df['temperature'].between(-30, 55)).sum()\n",
    "    if outliers > 0:\n",
    "        print(f\" - {outliers} temperaturas fuera de rango → se pondrán NaN.\")\n",
    "\n",
    "    return (\n",
    "        df.dropna(subset=['date'])\n",
    "          .drop_duplicates(subset=['date'], keep='last')\n",
    "          .assign(\n",
    "              temperature=lambda x: pd.to_numeric(x['temperature'], errors='coerce'),\n",
    "              precipitation=lambda x: pd.to_numeric(x['precipitation'], errors='coerce')\n",
    "          )\n",
    "    )\n"
   ]
  },
  {
   "cell_type": "code",
   "execution_count": 29,
   "id": "8f69384e-ce77-4775-b7aa-4e453146b3f0",
   "metadata": {},
   "outputs": [
    {
     "name": "stdout",
     "output_type": "stream",
     "text": [
      "\n",
      " Limpieza ARCHIVE (91 filas iniciales)\n",
      " - 3 temperaturas fuera de rango → se pondrán NaN.\n",
      "\n",
      " Limpieza FORECAST (8 filas iniciales)\n"
     ]
    }
   ],
   "source": [
    "clima_hist = clean_clima(clima_hist, \"ARCHIVE\")\n",
    "clima_fut  = clean_clima(clima_fut, \"FORECAST\")"
   ]
  },
  {
   "cell_type": "code",
   "execution_count": 24,
   "id": "9f71cc09-a8ea-4906-9d68-3c3d12f0fd12",
   "metadata": {},
   "outputs": [],
   "source": [
    "# --- LIMPIEZA FORECAST --- ejemplo jupiter\n",
    "if not clima_fut.empty:\n",
    "    clima_fut['date'] = pd.to_datetime(clima_fut['date'], errors='coerce')\n",
    "    clima_fut['temperature'] = pd.to_numeric(clima_fut['temperature'], errors='coerce')\n",
    "    clima_fut['precipitation'] = pd.to_numeric(clima_fut['precipitation'], errors='coerce')\n",
    "\n",
    "    clima_fut = clima_fut.dropna(subset=['date'])\n",
    "    clima_fut['date'] = clima_fut['date'].dt.normalize()\n",
    "    clima_fut = clima_fut.drop_duplicates(subset=['date'], keep='last')\n",
    "\n",
    "    clima_fut.loc[~clima_fut['temperature'].between(-30, 55), 'temperature'] = np.nan\n",
    "    clima_fut.loc[clima_fut['precipitation'] < 0, 'precipitation'] = 0\n"
   ]
  },
  {
   "cell_type": "code",
   "execution_count": 30,
   "id": "f2c2c950-ab55-4dd1-a69a-34ed0b3fe395",
   "metadata": {},
   "outputs": [
    {
     "name": "stdout",
     "output_type": "stream",
     "text": [
      "Clima API rango: 2025-05-31 → 2025-09-05\n",
      "        date  temperature  precipitation\n",
      "0 2025-05-31        12.85            6.4\n",
      "1 2025-06-01        12.35            6.0\n",
      "2 2025-06-02        12.65            4.8\n",
      "3 2025-06-03        12.70           11.8\n",
      "4 2025-06-04        12.55           10.4\n"
     ]
    }
   ],
   "source": [
    "# =========================\n",
    "# 3) Unir pasado + futuro\n",
    "# =========================\n",
    "clima_api = pd.concat([clima_hist, clima_fut], ignore_index=True).drop_duplicates(\"date\") #duplicado por fecha\n",
    "clima_api = clima_api.sort_values('date').drop_duplicates(subset=['date'], keep='last')\n",
    "\n",
    "# normalizar fecha y asegurar tipos\n",
    "clima_api['date'] = pd.to_datetime(clima_api['date'], errors='coerce').dt.normalize()\n",
    "clima_api['temperature'] = pd.to_numeric(clima_api['temperature'], errors='coerce')\n",
    "clima_api['precipitation'] = pd.to_numeric(clima_api['precipitation'], errors='coerce')\n",
    "\n",
    "print(\"Clima API rango:\", clima_api['date'].min().date(), \"→\", clima_api['date'].max().date())\n",
    "print(clima_api.head())\n"
   ]
  },
  {
   "cell_type": "code",
   "execution_count": 31,
   "id": "4cae1454-25df-40a8-85aa-3f4e80c8ed24",
   "metadata": {},
   "outputs": [
    {
     "name": "stdout",
     "output_type": "stream",
     "text": [
      "Días faltantes de clima vs ventas: 276\n",
      "Clima final rango: 2024-08-28 → 2025-09-05\n",
      "          date  temperature  precipitation\n",
      "98  2024-08-28    17.306989       4.509063\n",
      "99  2024-08-29    18.607748       2.770816\n",
      "100 2024-08-30    20.991648       5.301088\n",
      "101 2024-08-31    19.535632       1.230143\n",
      "102 2024-09-01    19.954067       4.201765\n"
     ]
    }
   ],
   "source": [
    "full_range = pd.date_range(ventas['date'].min(), ventas['date'].max(), freq=\"D\")\n",
    "faltantes = sorted(set(full_range) - set(clima_api['date']))\n",
    "print(\"Días faltantes de clima vs ventas:\", len(faltantes))\n",
    "\n",
    "if faltantes:\n",
    "    t = np.arange(len(faltantes))\n",
    "    temp_base = 18 + 4*np.sin(2*np.pi*t/30)\n",
    "    temp_noise = np.random.normal(0, 1.2, len(faltantes))\n",
    "    clima_sim = pd.DataFrame({\n",
    "        \"date\": pd.to_datetime(faltantes),\n",
    "        \"temperature\": temp_base + temp_noise,\n",
    "        \"precipitation\": np.clip(np.random.gamma(1.5, 2.0, len(faltantes)) - 1.0, 0, None)\n",
    "    })\n",
    "else:\n",
    "    clima_sim = pd.DataFrame(columns=clima_api.columns)\n",
    "\n",
    "# Concatenar clima real + simulado\n",
    "clima = pd.concat([clima_api, clima_sim], ignore_index=True).sort_values(\"date\")\n",
    "clima['date'] = clima['date'].dt.normalize()\n",
    "\n",
    "print(\"Clima final rango:\", clima['date'].min().date(), \"→\", clima['date'].max().date())\n",
    "print(clima.head())\n"
   ]
  },
  {
   "cell_type": "code",
   "execution_count": 18,
   "id": "3501753c-aab4-4d17-a630-98cdd04a0841",
   "metadata": {},
   "outputs": [
    {
     "name": "stdout",
     "output_type": "stream",
     "text": [
      "        date  product_id  product  sales   price    category\n",
      "0 2024-09-06           2   poncho    128   67.83  accesorios\n",
      "1 2025-02-23           3  bufanda     74  110.05     calzado\n",
      "2 2024-09-19           4    botas     88   66.96   Chaquetas\n",
      "3 2024-10-28           5  guantes    176   16.33     calzado\n",
      "4 2024-08-29           6    botas     20  160.85  accesorios\n"
     ]
    }
   ],
   "source": [
    "# --- LIMPIEZA CSV (justo después de leer el CSV) ---\n",
    "# Fechas\n",
    "ventas['date'] = pd.to_datetime(ventas['date'], errors='coerce')\n",
    "\n",
    "# Tipos numéricos\n",
    "for col in ['sales', 'price']:\n",
    "    if col in ventas.columns:\n",
    "        ventas[col] = pd.to_numeric(ventas[col], errors='coerce')\n",
    "\n",
    "# Texto/IDs\n",
    "if 'product_id' in ventas.columns and ventas['product_id'].dtype == 'object':\n",
    "    ventas['product_id'] = ventas['product_id'].str.strip()\n",
    "\n",
    "# Duplicados\n",
    "dups = ventas.duplicated().sum()\n",
    "if dups > 0:\n",
    "    print(f\" - Se eliminarán {dups} filas duplicadas.\")\n",
    "ventas = ventas.drop_duplicates()\n",
    "# Nulos en sales/price\n",
    "null_sales = ventas['sales'].isna().sum()\n",
    "null_price = ventas['price'].isna().sum()\n",
    "if null_sales > 0 or null_price > 0:\n",
    "    print(f\" - Faltantes: sales={null_sales}, price={null_price}. Se imputan.\")\n",
    "# Filtrar filas inválidas (sin fecha o sin sales/price numérico)\n",
    "ventas = ventas.dropna(subset=['date'])\n",
    "# Si necesitas ventas sin montos negativos/absurdos:\n",
    "ventas = ventas[(ventas['sales'].fillna(0) >= 0)]\n",
    "# Si quieres imputar faltantes razonables:\n",
    "ventas['sales'] = ventas['sales'].fillna(0)\n",
    "ventas['price'] = ventas['price'].fillna(ventas['price'].median())\n",
    "\n",
    "print (ventas.head())\n"
   ]
  },
  {
   "cell_type": "code",
   "execution_count": 33,
   "id": "15a24849-550f-4154-afb9-bf89387c6fd9",
   "metadata": {},
   "outputs": [
    {
     "name": "stdout",
     "output_type": "stream",
     "text": [
      " Ventas diarias head:\n",
      "        date  total_sales   avg_price  txns  unique_products\n",
      "0 2024-08-28          398  131.250000     3                3\n",
      "1 2024-08-29           20  160.850000     1                1\n",
      "2 2024-08-30          719   89.928333     6                6\n",
      "3 2024-08-31          250   96.835000     4                4\n",
      "4 2024-09-01          108  125.960000     1                1\n"
     ]
    }
   ],
   "source": [
    "# Agregación diaria de ventas\n",
    "ventas_daily = (\n",
    "    ventas\n",
    "    .groupby('date', as_index=False)\n",
    "    .agg(\n",
    "        total_sales=('sales', 'sum'),\n",
    "        avg_price=('price', 'mean'),\n",
    "        txns=('product_id', 'count'),\n",
    "        unique_products=('product_id', 'nunique')\n",
    "    )\n",
    ")\n",
    "\n",
    "print(\" Ventas diarias head:\")\n",
    "print(ventas_daily.head())\n",
    "\n",
    "\n"
   ]
  },
  {
   "cell_type": "code",
   "execution_count": 34,
   "id": "f7f67ea2-5465-4b73-a5e8-1a1d72ca4f90",
   "metadata": {},
   "outputs": [
    {
     "name": "stdout",
     "output_type": "stream",
     "text": [
      "\n",
      "Post-merge head:\n",
      "        date  total_sales   avg_price  txns  unique_products  temperature  \\\n",
      "0 2024-08-28          398  131.250000     3                3    17.306989   \n",
      "1 2024-08-29           20  160.850000     1                1    18.607748   \n",
      "2 2024-08-30          719   89.928333     6                6    20.991648   \n",
      "3 2024-08-31          250   96.835000     4                4    19.535632   \n",
      "4 2024-09-01          108  125.960000     1                1    19.954067   \n",
      "\n",
      "   precipitation  \n",
      "0       4.509063  \n",
      "1       2.770816  \n",
      "2       5.301088  \n",
      "3       1.230143  \n",
      "4       4.201765  \n",
      "\n",
      " Nulos clima tras merge:\n",
      "temperature      1\n",
      "precipitation    1\n",
      "dtype: int64\n"
     ]
    }
   ],
   "source": [
    "# --- PRE MERGE ---\n",
    "ventas_daily = ventas_daily.sort_values('date').drop_duplicates(subset=['date'], keep='last')\n",
    "clima = clima.sort_values('date').drop_duplicates(subset=['date'], keep='last')\n",
    "\n",
    "\n",
    "# Merge con clima diario\n",
    "df = ventas_daily.merge(clima, on='date', how='left')\n",
    "print(\"\\nPost-merge sin limpieza head:\")\n",
    "print(df.head())\n",
    "\n",
    "print(\"\\n Nulos clima tras merge:\")\n",
    "print(df[['temperature','precipitation']].isna().sum())"
   ]
  },
  {
   "cell_type": "code",
   "execution_count": 38,
   "id": "de599657-bebe-41d8-93ea-fcf03bd6541c",
   "metadata": {},
   "outputs": [
    {
     "name": "stdout",
     "output_type": "stream",
     "text": [
      "\n",
      " Post-merge:\n",
      " - Nulos en temperatura: 0\n",
      " - Nulos en precipitación: 0\n"
     ]
    }
   ],
   "source": [
    "# --- IMPUTACIONES POST MERGE (ya las tienes) ---\n",
    "df['precipitation'] = df['precipitation'].fillna(0)\n",
    "df['temperature'] = df['temperature'].interpolate(limit_direction='both')\n",
    "\n",
    "# (Opcional) si quedan NaN extremos (todo al inicio/fin sin vecinos)\n",
    "df['temperature'] = df['temperature'].fillna(df['temperature'].median())\n",
    "\n",
    "# Verificación final rápida\n",
    "assert df['date'].isna().sum() == 0, \"Hay filas sin fecha tras el merge.\"\n",
    "\n",
    "print(\"\\n Post-merge:\")\n",
    "print(\" - Nulos en temperatura:\", df['temperature'].isna().sum())\n",
    "print(\" - Nulos en precipitación:\", df['precipitation'].isna().sum())\n",
    "\n"
   ]
  },
  {
   "cell_type": "code",
   "execution_count": 40,
   "id": "afcec052-f996-42a9-a711-e613dc65f304",
   "metadata": {},
   "outputs": [
    {
     "name": "stdout",
     "output_type": "stream",
     "text": [
      "Features: ['temperature', 'precipitation', 'avg_price', 'txns', 'unique_products']\n",
      "Filas usadas para el modelo: 347 (eliminadas 0 por NaN)\n"
     ]
    },
    {
     "data": {
      "text/plain": [
       "((277, 5), (70, 5))"
      ]
     },
     "execution_count": 40,
     "metadata": {},
     "output_type": "execute_result"
    }
   ],
   "source": [
    "\n",
    "# Elige las variables (solo usaremos las que existan en tu df)\n",
    "feature_candidates = ['temperature', 'precipitation', 'avg_price', 'txns', 'unique_products']\n",
    "features = [c for c in feature_candidates if c in df.columns]\n",
    "target = 'total_sales'\n",
    "\n",
    "print(\"Features:\", features)\n",
    "assert target in df.columns, \"No encuentro la columna 'total_sales' en df.\"\n",
    "\n",
    "# Copia de trabajo para evitar SettingWithCopy\n",
    "data = df[features + [target]].copy()\n",
    "\n",
    "# Por seguridad: eliminar filas con NaN residuales en X o y (debería ser 0 si limpiaste)\n",
    "before = len(data)\n",
    "data = data.dropna(subset=features + [target])\n",
    "print(f\"Filas usadas para el modelo: {len(data)} (eliminadas {before - len(data)} por NaN)\")\n",
    "\n",
    "X = data[features].values\n",
    "y = data[target].values\n",
    "\n",
    "# Split train/test reproducible\n",
    "X_train, X_test, y_train, y_test = train_test_split(\n",
    "    X, y, test_size=0.2, random_state=42\n",
    ")\n",
    "X_train.shape, X_test.shape\n",
    "\n"
   ]
  },
  {
   "cell_type": "code",
   "execution_count": 41,
   "id": "0f117987-5a3c-436b-a6ee-ceeda227c439",
   "metadata": {},
   "outputs": [
    {
     "name": "stdout",
     "output_type": "stream",
     "text": [
      "MAE (test): 70.80\n",
      "R²  (test): 0.650\n",
      "Coeficientes:\n",
      "       temperature: 2.8422\n",
      "     precipitation: 0.7960\n",
      "         avg_price: -0.1115\n",
      "              txns: 49.3359\n",
      "   unique_products: 49.3359\n",
      "Intercepto: -29.5933\n"
     ]
    }
   ],
   "source": [
    "\n",
    "lr = LinearRegression()\n",
    "lr.fit(X_train, y_train)\n",
    "\n",
    "y_pred_test = lr.predict(X_test)\n",
    "mae = mean_absolute_error(y_test, y_pred_test)\n",
    "r2  = r2_score(y_test, y_pred_test)\n",
    "\n",
    "print(f\"MAE (test): {mae:,.2f}\")\n",
    "print(f\"R²  (test): {r2:,.3f}\")\n",
    "\n",
    "# Coeficientes por variable (para interpretar el modelo)\n",
    "coef_info = dict(zip(features, lr.coef_))\n",
    "print(\"Coeficientes:\")\n",
    "for k, v in coef_info.items():\n",
    "    print(f\"  {k:>16}: {v:,.4f}\")\n",
    "\n",
    "print(\"Intercepto:\", f\"{lr.intercept_:,.4f}\")\n"
   ]
  },
  {
   "cell_type": "code",
   "execution_count": 42,
   "id": "38fc3866-763f-4e10-a182-b4935106ebfb",
   "metadata": {},
   "outputs": [
    {
     "name": "stdout",
     "output_type": "stream",
     "text": [
      "Ejemplo (head) con predicción:\n"
     ]
    },
    {
     "data": {
      "text/html": [
       "<div>\n",
       "<style scoped>\n",
       "    .dataframe tbody tr th:only-of-type {\n",
       "        vertical-align: middle;\n",
       "    }\n",
       "\n",
       "    .dataframe tbody tr th {\n",
       "        vertical-align: top;\n",
       "    }\n",
       "\n",
       "    .dataframe thead th {\n",
       "        text-align: right;\n",
       "    }\n",
       "</style>\n",
       "<table border=\"1\" class=\"dataframe\">\n",
       "  <thead>\n",
       "    <tr style=\"text-align: right;\">\n",
       "      <th></th>\n",
       "      <th>date</th>\n",
       "      <th>total_sales</th>\n",
       "      <th>sales_prediction</th>\n",
       "      <th>temperature</th>\n",
       "      <th>precipitation</th>\n",
       "      <th>avg_price</th>\n",
       "      <th>txns</th>\n",
       "      <th>unique_products</th>\n",
       "    </tr>\n",
       "  </thead>\n",
       "  <tbody>\n",
       "    <tr>\n",
       "      <th>0</th>\n",
       "      <td>2024-08-28</td>\n",
       "      <td>398</td>\n",
       "      <td>304.567510</td>\n",
       "      <td>17.306989</td>\n",
       "      <td>4.509063</td>\n",
       "      <td>131.250000</td>\n",
       "      <td>3</td>\n",
       "      <td>3</td>\n",
       "    </tr>\n",
       "    <tr>\n",
       "      <th>1</th>\n",
       "      <td>2024-08-29</td>\n",
       "      <td>20</td>\n",
       "      <td>106.237353</td>\n",
       "      <td>18.607748</td>\n",
       "      <td>2.770816</td>\n",
       "      <td>160.850000</td>\n",
       "      <td>1</td>\n",
       "      <td>1</td>\n",
       "    </tr>\n",
       "    <tr>\n",
       "      <th>2</th>\n",
       "      <td>2024-08-30</td>\n",
       "      <td>719</td>\n",
       "      <td>616.292360</td>\n",
       "      <td>20.991648</td>\n",
       "      <td>5.301088</td>\n",
       "      <td>89.928333</td>\n",
       "      <td>6</td>\n",
       "      <td>6</td>\n",
       "    </tr>\n",
       "    <tr>\n",
       "      <th>3</th>\n",
       "      <td>2024-08-31</td>\n",
       "      <td>250</td>\n",
       "      <td>410.800252</td>\n",
       "      <td>19.535632</td>\n",
       "      <td>1.230143</td>\n",
       "      <td>96.835000</td>\n",
       "      <td>4</td>\n",
       "      <td>4</td>\n",
       "    </tr>\n",
       "    <tr>\n",
       "      <th>4</th>\n",
       "      <td>2024-09-01</td>\n",
       "      <td>108</td>\n",
       "      <td>115.092597</td>\n",
       "      <td>19.954067</td>\n",
       "      <td>4.201765</td>\n",
       "      <td>125.960000</td>\n",
       "      <td>1</td>\n",
       "      <td>1</td>\n",
       "    </tr>\n",
       "  </tbody>\n",
       "</table>\n",
       "</div>"
      ],
      "text/plain": [
       "        date  total_sales  sales_prediction  temperature  precipitation  \\\n",
       "0 2024-08-28          398        304.567510    17.306989       4.509063   \n",
       "1 2024-08-29           20        106.237353    18.607748       2.770816   \n",
       "2 2024-08-30          719        616.292360    20.991648       5.301088   \n",
       "3 2024-08-31          250        410.800252    19.535632       1.230143   \n",
       "4 2024-09-01          108        115.092597    19.954067       4.201765   \n",
       "\n",
       "    avg_price  txns  unique_products  \n",
       "0  131.250000     3                3  \n",
       "1  160.850000     1                1  \n",
       "2   89.928333     6                6  \n",
       "3   96.835000     4                4  \n",
       "4  125.960000     1                1  "
      ]
     },
     "metadata": {},
     "output_type": "display_data"
    }
   ],
   "source": [
    "# Predecimos para todas las filas de df que tengan las features completas\n",
    "mask_ok = df[features].notna().all(axis=1)\n",
    "pred = np.full(len(df), np.nan, dtype=float)\n",
    "pred[mask_ok] = lr.predict(df.loc[mask_ok, features].values)\n",
    "\n",
    "df['sales_prediction'] = pred\n",
    "\n",
    "print(\"Ejemplo (head) con predicción:\")\n",
    "display(df[['date','total_sales','sales_prediction'] + features].head())\n"
   ]
  },
  {
   "cell_type": "code",
   "execution_count": 43,
   "id": "716963db-e5cb-4d90-ab7c-cf52e678d3ba",
   "metadata": {},
   "outputs": [
    {
     "data": {
      "image/png": "[encoded data removed]",
      "text/plain": [
       "<Figure size 800x500 with 1 Axes>"
      ]
     },
     "metadata": {},
     "output_type": "display_data"
    }
   ],
   "source": [
    "import matplotlib.pyplot as plt\n",
    "\n",
    "tmp = df.dropna(subset=['sales_prediction'])  # solo filas con predicción\n",
    "plt.figure(figsize=(8,5))\n",
    "plt.scatter(tmp['total_sales'], tmp['sales_prediction'], alpha=0.6)\n",
    "xmin, xmax = tmp['total_sales'].min(), tmp['total_sales'].max()\n",
    "plt.plot([xmin, xmax], [xmin, xmax])  # línea ideal y=x\n",
    "plt.xlabel(\"Ventas reales (total_sales)\")\n",
    "plt.ylabel(\"Ventas predichas (sales_prediction)\")\n",
    "plt.title(\"Real vs Predicho (Regresión Lineal)\")\n",
    "plt.show()\n"
   ]
  },
  {
   "cell_type": "code",
   "execution_count": 47,
   "id": "761f984a-ad64-42db-9af9-cfe57130a0bc",
   "metadata": {},
   "outputs": [
    {
     "name": "stdout",
     "output_type": "stream",
     "text": [
      "Ventas por producto (head):\n",
      "         date  product_id      product    category  total_sales  avg_price  \\\n",
      "0  2024-08-28         709  Impermeable   Chaquetas          181     177.02   \n",
      "1  2024-08-28         814      bufanda   Chaquetas          146      29.08   \n",
      "2  2024-08-28         960       poncho   Chaquetas           71     187.65   \n",
      "3  2024-08-29           6        botas  accesorios           20     160.85   \n",
      "4  2024-08-30         221       poncho   Chaquetas           51     148.52   \n",
      "5  2024-08-30         326     chaqueta   Chaquetas           68      86.75   \n",
      "6  2024-08-30         611      bufanda   Chaquetas          131     115.61   \n",
      "7  2024-08-30         662        botas   Chaquetas          130      87.58   \n",
      "8  2024-08-30         923       poncho   Chaquetas          171      65.17   \n",
      "9  2024-08-30         984     chaqueta   Chaquetas          168      35.94   \n",
      "10 2024-08-31         135     chaqueta     calzado           43      51.07   \n",
      "11 2024-08-31         466      guantes   Chaquetas          156      90.59   \n",
      "12 2024-08-31         614      bufanda     calzado           24      81.55   \n",
      "13 2024-08-31         918        botas   Chaquetas           27     164.13   \n",
      "14 2024-09-01         230       poncho  accesorios          108     125.96   \n",
      "15 2024-09-02         366     chaqueta     calzado          177     154.55   \n",
      "16 2024-09-02         822      bufanda     calzado           46      22.76   \n",
      "17 2024-09-02         928      bufanda   Chaquetas           91     123.66   \n",
      "18 2024-09-03          30        botas   Chaquetas          194     137.89   \n",
      "19 2024-09-03         253     paraguas  accesorios          183     130.97   \n",
      "20 2024-09-03         968       poncho   Chaquetas           76      19.93   \n",
      "21 2024-09-04         412     paraguas     calzado           71      64.37   \n",
      "22 2024-09-04         452      guantes  accesorios           81      61.75   \n",
      "23 2024-09-04         749        botas   Chaquetas          147     104.62   \n",
      "24 2024-09-05          24  Impermeable     calzado          179      75.50   \n",
      "25 2024-09-05         154      guantes  accesorios           49     195.42   \n",
      "26 2024-09-05         438      bufanda     calzado           36     175.06   \n",
      "27 2024-09-06           2       poncho  accesorios          128      67.83   \n",
      "28 2024-09-06          19        botas     calzado          116     165.96   \n",
      "29 2024-09-06         224      bufanda   Chaquetas           52     112.64   \n",
      "\n",
      "    txns  \n",
      "0      1  \n",
      "1      1  \n",
      "2      1  \n",
      "3      1  \n",
      "4      1  \n",
      "5      1  \n",
      "6      1  \n",
      "7      1  \n",
      "8      1  \n",
      "9      1  \n",
      "10     1  \n",
      "11     1  \n",
      "12     1  \n",
      "13     1  \n",
      "14     1  \n",
      "15     1  \n",
      "16     1  \n",
      "17     1  \n",
      "18     1  \n",
      "19     1  \n",
      "20     1  \n",
      "21     1  \n",
      "22     1  \n",
      "23     1  \n",
      "24     1  \n",
      "25     1  \n",
      "26     1  \n",
      "27     1  \n",
      "28     1  \n",
      "29     1  \n"
     ]
    }
   ],
   "source": [
    "# --- Análisis por producto (paralelo al global) ---\n",
    "ventas_prod_daily = (\n",
    "    ventas\n",
    "    .groupby(['date','product_id','product','category'], as_index=False)\n",
    "    .agg(\n",
    "        total_sales=('sales','sum'),\n",
    "        avg_price=('price','mean'),\n",
    "        txns=('product_id','count')\n",
    "    )\n",
    ")\n",
    "\n",
    "\n",
    "print(\"Ventas por producto (head):\")\n",
    "print(ventas_prod_daily.head(30))\n"
   ]
  },
  {
   "cell_type": "code",
   "execution_count": null,
   "id": "429af81f-b7c9-4ca5-be7d-186d0d2a1753",
   "metadata": {},
   "outputs": [],
   "source": []
  }
 ],
 "metadata": {
  "kernelspec": {
   "display_name": "Python [conda env:base] *",
   "language": "python",
   "name": "conda-base-py"
  },
  "language_info": {
   "codemirror_mode": {
    "name": "ipython",
    "version": 3
   },
   "file_extension": ".py",
   "mimetype": "text/x-python",
   "name": "python",
   "nbconvert_exporter": "python",
   "pygments_lexer": "ipython3",
   "version": "3.13.5"
  }
 },
 "nbformat": 4,
 "nbformat_minor": 5
}
